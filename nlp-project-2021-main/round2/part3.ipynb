{
 "cells": [
  {
   "cell_type": "code",
   "execution_count": 3,
   "id": "a03a0d4b",
   "metadata": {},
   "outputs": [],
   "source": [
    "import nltk\n",
    "import urllib.request\n",
    "import urllib.parse\n",
    "import urllib.error\n",
    "import re\n",
    "import pandas as pd\n",
    "import numpy as np\n",
    "from sklearn.feature_extraction.text import TfidfVectorizer"
   ]
  },
  {
   "cell_type": "code",
   "execution_count": 4,
   "id": "310687ff",
   "metadata": {},
   "outputs": [
    {
     "name": "stderr",
     "output_type": "stream",
     "text": [
      "[nltk_data] Downloading package wordnet to\n",
      "[nltk_data]     /Users/rishabhjain/nltk_data...\n",
      "[nltk_data]   Package wordnet is already up-to-date!\n"
     ]
    },
    {
     "data": {
      "text/plain": [
       "True"
      ]
     },
     "execution_count": 4,
     "metadata": {},
     "output_type": "execute_result"
    }
   ],
   "source": [
    "from nltk.corpus import wordnet\n",
    "nltk.download('wordnet')"
   ]
  },
  {
   "cell_type": "code",
   "execution_count": 5,
   "id": "77f993c7",
   "metadata": {},
   "outputs": [],
   "source": [
    "def importData(site):\n",
    "    print('Downloading books')\n",
    "    print('Extracting ', site)\n",
    "    uh1 = urllib.request.urlopen(site)\n",
    "    data = uh1.read().decode('utf8')\n",
    "    return data"
   ]
  },
  {
   "cell_type": "code",
   "execution_count": 7,
   "id": "e26a416e",
   "metadata": {},
   "outputs": [],
   "source": [
    "def preProcessing(data):\n",
    "    data = data.lower()\n",
    "    data = re.sub('^Section [1-9].', '', data)\n",
    "    data = re.sub(r'==.*?==+', '', data)\n",
    "    data = re.sub(r'CHAPTER \\d+', '', data)\n",
    "    data = re.sub('[\\(\\[].*?[\\)\\]]', '', data)\n",
    "    data = re.sub(r'[^a-zA-Z0-9\\s]', '', data)\n",
    "    data = data.replace('\\n', '')\n",
    "    return data"
   ]
  },
  {
   "cell_type": "code",
   "execution_count": 6,
   "id": "c5fbbce7",
   "metadata": {},
   "outputs": [
    {
     "name": "stdout",
     "output_type": "stream",
     "text": [
      "Downloading books\n",
      "Extracting  http://www.gutenberg.org/files/1342/1342-0.txt\n",
      "Downloading books\n",
      "Extracting  http://www.gutenberg.org/files/829/829-0.txt\n",
      "Downloading books\n",
      "Extracting  https://www.gutenberg.org//cache/epub/22381/pg22381.txt\n"
     ]
    }
   ],
   "source": [
    "data1 = importData('http://www.gutenberg.org/files/1342/1342-0.txt')\n",
    "data2 = importData('http://www.gutenberg.org/files/829/829-0.txt')\n",
    "data3 = importData(\"https://www.gutenberg.org//cache/epub/22381/pg22381.txt\")"
   ]
  },
  {
   "cell_type": "code",
   "execution_count": 13,
   "id": "62232f0f",
   "metadata": {},
   "outputs": [],
   "source": [
    "from nltk.corpus import stopwords\n",
    "data1 = preProcessing(data1)"
   ]
  },
  {
   "cell_type": "code",
   "execution_count": 9,
   "id": "f9da2cf9",
   "metadata": {},
   "outputs": [],
   "source": [
    "data2 = preProcessing(data2)"
   ]
  },
  {
   "cell_type": "code",
   "execution_count": 10,
   "id": "5213178d",
   "metadata": {},
   "outputs": [],
   "source": [
    "data3 = preProcessing(data3)"
   ]
  },
  {
   "cell_type": "code",
   "execution_count": 14,
   "id": "22599abe",
   "metadata": {},
   "outputs": [],
   "source": [
    "stop_words = set(stopwords.words('english'))"
   ]
  },
  {
   "cell_type": "code",
   "execution_count": 16,
   "id": "5dcbfa54",
   "metadata": {},
   "outputs": [
    {
     "name": "stderr",
     "output_type": "stream",
     "text": [
      "/Library/Frameworks/Python.framework/Versions/3.9/lib/python3.9/site-packages/sklearn/utils/deprecation.py:87: FutureWarning: Function get_feature_names is deprecated; get_feature_names is deprecated in 1.0 and will be removed in 1.2. Please use get_feature_names_out instead.\n",
      "  warnings.warn(msg, category=FutureWarning)\n"
     ]
    },
    {
     "data": {
      "text/html": [
       "<div>\n",
       "<style scoped>\n",
       "    .dataframe tbody tr th:only-of-type {\n",
       "        vertical-align: middle;\n",
       "    }\n",
       "\n",
       "    .dataframe tbody tr th {\n",
       "        vertical-align: top;\n",
       "    }\n",
       "\n",
       "    .dataframe thead th {\n",
       "        text-align: right;\n",
       "    }\n",
       "</style>\n",
       "<table border=\"1\" class=\"dataframe\">\n",
       "  <thead>\n",
       "    <tr style=\"text-align: right;\">\n",
       "      <th></th>\n",
       "      <th>10</th>\n",
       "      <th>100</th>\n",
       "      <th>101</th>\n",
       "      <th>102</th>\n",
       "      <th>103</th>\n",
       "      <th>104</th>\n",
       "      <th>105</th>\n",
       "      <th>106</th>\n",
       "      <th>107</th>\n",
       "      <th>108</th>\n",
       "      <th>...</th>\n",
       "      <th>zealots</th>\n",
       "      <th>zealous</th>\n",
       "      <th>zenith</th>\n",
       "      <th>zephyrs</th>\n",
       "      <th>zephyrus</th>\n",
       "      <th>zetes</th>\n",
       "      <th>zethus</th>\n",
       "      <th>zeus</th>\n",
       "      <th>zodiac</th>\n",
       "      <th>zwin</th>\n",
       "    </tr>\n",
       "  </thead>\n",
       "  <tbody>\n",
       "    <tr>\n",
       "      <th>B1</th>\n",
       "      <td>0.000739</td>\n",
       "      <td>0.000000</td>\n",
       "      <td>0.000000</td>\n",
       "      <td>0.0000</td>\n",
       "      <td>0.0000</td>\n",
       "      <td>0.000000</td>\n",
       "      <td>0.000000</td>\n",
       "      <td>0.000000</td>\n",
       "      <td>0.000000</td>\n",
       "      <td>0.000000</td>\n",
       "      <td>...</td>\n",
       "      <td>0.000000</td>\n",
       "      <td>0.000000</td>\n",
       "      <td>0.000000</td>\n",
       "      <td>0.0000</td>\n",
       "      <td>0.000000</td>\n",
       "      <td>0.000000</td>\n",
       "      <td>0.000000</td>\n",
       "      <td>0.000000</td>\n",
       "      <td>0.000000</td>\n",
       "      <td>0.000000</td>\n",
       "    </tr>\n",
       "    <tr>\n",
       "      <th>B2</th>\n",
       "      <td>0.000622</td>\n",
       "      <td>0.000000</td>\n",
       "      <td>0.000000</td>\n",
       "      <td>0.0000</td>\n",
       "      <td>0.0000</td>\n",
       "      <td>0.000000</td>\n",
       "      <td>0.000000</td>\n",
       "      <td>0.000000</td>\n",
       "      <td>0.000000</td>\n",
       "      <td>0.000000</td>\n",
       "      <td>...</td>\n",
       "      <td>0.001054</td>\n",
       "      <td>0.001602</td>\n",
       "      <td>0.001054</td>\n",
       "      <td>0.0000</td>\n",
       "      <td>0.000000</td>\n",
       "      <td>0.000000</td>\n",
       "      <td>0.000000</td>\n",
       "      <td>0.000000</td>\n",
       "      <td>0.001054</td>\n",
       "      <td>0.001054</td>\n",
       "    </tr>\n",
       "    <tr>\n",
       "      <th>B3</th>\n",
       "      <td>0.001949</td>\n",
       "      <td>0.004401</td>\n",
       "      <td>0.004401</td>\n",
       "      <td>0.0022</td>\n",
       "      <td>0.0011</td>\n",
       "      <td>0.007701</td>\n",
       "      <td>0.011002</td>\n",
       "      <td>0.007701</td>\n",
       "      <td>0.007701</td>\n",
       "      <td>0.009902</td>\n",
       "      <td>...</td>\n",
       "      <td>0.000000</td>\n",
       "      <td>0.000837</td>\n",
       "      <td>0.000000</td>\n",
       "      <td>0.0011</td>\n",
       "      <td>0.007701</td>\n",
       "      <td>0.005501</td>\n",
       "      <td>0.005501</td>\n",
       "      <td>0.236545</td>\n",
       "      <td>0.000000</td>\n",
       "      <td>0.000000</td>\n",
       "    </tr>\n",
       "  </tbody>\n",
       "</table>\n",
       "<p>3 rows × 16545 columns</p>\n",
       "</div>"
      ],
      "text/plain": [
       "          10       100       101     102     103       104       105  \\\n",
       "B1  0.000739  0.000000  0.000000  0.0000  0.0000  0.000000  0.000000   \n",
       "B2  0.000622  0.000000  0.000000  0.0000  0.0000  0.000000  0.000000   \n",
       "B3  0.001949  0.004401  0.004401  0.0022  0.0011  0.007701  0.011002   \n",
       "\n",
       "         106       107       108  ...   zealots   zealous    zenith  zephyrs  \\\n",
       "B1  0.000000  0.000000  0.000000  ...  0.000000  0.000000  0.000000   0.0000   \n",
       "B2  0.000000  0.000000  0.000000  ...  0.001054  0.001602  0.001054   0.0000   \n",
       "B3  0.007701  0.007701  0.009902  ...  0.000000  0.000837  0.000000   0.0011   \n",
       "\n",
       "    zephyrus     zetes    zethus      zeus    zodiac      zwin  \n",
       "B1  0.000000  0.000000  0.000000  0.000000  0.000000  0.000000  \n",
       "B2  0.000000  0.000000  0.000000  0.000000  0.001054  0.001054  \n",
       "B3  0.007701  0.005501  0.005501  0.236545  0.000000  0.000000  \n",
       "\n",
       "[3 rows x 16545 columns]"
      ]
     },
     "execution_count": 16,
     "metadata": {},
     "output_type": "execute_result"
    }
   ],
   "source": [
    "corpus = [data1,data2,data3]\n",
    "\n",
    "vectorizer = TfidfVectorizer(min_df=0.1,stop_words=stop_words)\n",
    "trsfm = vectorizer.fit_transform(corpus)\n",
    "pd.DataFrame(trsfm.toarray(),columns=vectorizer.get_feature_names(),index=['B1','B2','B3'])"
   ]
  },
  {
   "cell_type": "code",
   "execution_count": 17,
   "id": "d8a74ce7",
   "metadata": {},
   "outputs": [
    {
     "data": {
      "text/plain": [
       "array([[1.        , 0.47258612, 0.2607772 ]])"
      ]
     },
     "execution_count": 17,
     "metadata": {},
     "output_type": "execute_result"
    }
   ],
   "source": [
    "from sklearn.metrics.pairwise import cosine_similarity\n",
    "\n",
    "cosine_similarity(trsfm[0],trsfm)\n"
   ]
  },
  {
   "cell_type": "code",
   "execution_count": 18,
   "id": "b6a7c040",
   "metadata": {},
   "outputs": [
    {
     "data": {
      "text/plain": [
       "array([[0.47258612, 1.        , 0.47534742]])"
      ]
     },
     "execution_count": 18,
     "metadata": {},
     "output_type": "execute_result"
    }
   ],
   "source": [
    "cosine_similarity(trsfm[1],trsfm)"
   ]
  },
  {
   "cell_type": "code",
   "execution_count": 20,
   "id": "aac52d48",
   "metadata": {},
   "outputs": [],
   "source": [
    "from nltk.stem import WordNetLemmatizer\n",
    "lemmatizer = WordNetLemmatizer()\n",
    "\n",
    "def lemmatizetext(sentence):\n",
    "    token_words=nltk.word_tokenize(sentence) \n",
    "    lemma_sentence=[]\n",
    "    for word in token_words:\n",
    "        lemma_sentence.append(lemmatizer.lemmatize(word))\n",
    "        lemma_sentence.append(\" \")\n",
    "    return \"\".join(lemma_sentence)\n",
    "\n",
    "data1 = lemmatizetext(data1)\n",
    "data2 = lemmatizetext(data2)\n",
    "data3 = lemmatizetext(data3)"
   ]
  },
  {
   "cell_type": "code",
   "execution_count": 22,
   "id": "5152b7b8",
   "metadata": {},
   "outputs": [
    {
     "name": "stderr",
     "output_type": "stream",
     "text": [
      "/Library/Frameworks/Python.framework/Versions/3.9/lib/python3.9/site-packages/sklearn/utils/deprecation.py:87: FutureWarning: Function get_feature_names is deprecated; get_feature_names is deprecated in 1.0 and will be removed in 1.2. Please use get_feature_names_out instead.\n",
      "  warnings.warn(msg, category=FutureWarning)\n"
     ]
    },
    {
     "data": {
      "text/html": [
       "<div>\n",
       "<style scoped>\n",
       "    .dataframe tbody tr th:only-of-type {\n",
       "        vertical-align: middle;\n",
       "    }\n",
       "\n",
       "    .dataframe tbody tr th {\n",
       "        vertical-align: top;\n",
       "    }\n",
       "\n",
       "    .dataframe thead th {\n",
       "        text-align: right;\n",
       "    }\n",
       "</style>\n",
       "<table border=\"1\" class=\"dataframe\">\n",
       "  <thead>\n",
       "    <tr style=\"text-align: right;\">\n",
       "      <th></th>\n",
       "      <th>10</th>\n",
       "      <th>100</th>\n",
       "      <th>101</th>\n",
       "      <th>102</th>\n",
       "      <th>103</th>\n",
       "      <th>104</th>\n",
       "      <th>105</th>\n",
       "      <th>106</th>\n",
       "      <th>107</th>\n",
       "      <th>108</th>\n",
       "      <th>...</th>\n",
       "      <th>zealot</th>\n",
       "      <th>zealous</th>\n",
       "      <th>zenith</th>\n",
       "      <th>zephyr</th>\n",
       "      <th>zephyrus</th>\n",
       "      <th>zetes</th>\n",
       "      <th>zethus</th>\n",
       "      <th>zeus</th>\n",
       "      <th>zodiac</th>\n",
       "      <th>zwin</th>\n",
       "    </tr>\n",
       "  </thead>\n",
       "  <tbody>\n",
       "    <tr>\n",
       "      <th>B1</th>\n",
       "      <td>0.000573</td>\n",
       "      <td>0.000000</td>\n",
       "      <td>0.000000</td>\n",
       "      <td>0.00000</td>\n",
       "      <td>0.000000</td>\n",
       "      <td>0.000000</td>\n",
       "      <td>0.000000</td>\n",
       "      <td>0.000000</td>\n",
       "      <td>0.000000</td>\n",
       "      <td>0.000000</td>\n",
       "      <td>...</td>\n",
       "      <td>0.000000</td>\n",
       "      <td>0.000000</td>\n",
       "      <td>0.000000</td>\n",
       "      <td>0.000000</td>\n",
       "      <td>0.000000</td>\n",
       "      <td>0.000000</td>\n",
       "      <td>0.000000</td>\n",
       "      <td>0.000000</td>\n",
       "      <td>0.000000</td>\n",
       "      <td>0.000000</td>\n",
       "    </tr>\n",
       "    <tr>\n",
       "      <th>B2</th>\n",
       "      <td>0.000469</td>\n",
       "      <td>0.000000</td>\n",
       "      <td>0.000000</td>\n",
       "      <td>0.00000</td>\n",
       "      <td>0.000000</td>\n",
       "      <td>0.000000</td>\n",
       "      <td>0.000000</td>\n",
       "      <td>0.000000</td>\n",
       "      <td>0.000000</td>\n",
       "      <td>0.000000</td>\n",
       "      <td>...</td>\n",
       "      <td>0.000795</td>\n",
       "      <td>0.001209</td>\n",
       "      <td>0.000795</td>\n",
       "      <td>0.000000</td>\n",
       "      <td>0.000000</td>\n",
       "      <td>0.000000</td>\n",
       "      <td>0.000000</td>\n",
       "      <td>0.000000</td>\n",
       "      <td>0.000795</td>\n",
       "      <td>0.000795</td>\n",
       "    </tr>\n",
       "    <tr>\n",
       "      <th>B3</th>\n",
       "      <td>0.001303</td>\n",
       "      <td>0.002941</td>\n",
       "      <td>0.002941</td>\n",
       "      <td>0.00147</td>\n",
       "      <td>0.000735</td>\n",
       "      <td>0.005146</td>\n",
       "      <td>0.007351</td>\n",
       "      <td>0.005146</td>\n",
       "      <td>0.005146</td>\n",
       "      <td>0.006616</td>\n",
       "      <td>...</td>\n",
       "      <td>0.000000</td>\n",
       "      <td>0.000559</td>\n",
       "      <td>0.000000</td>\n",
       "      <td>0.000735</td>\n",
       "      <td>0.005146</td>\n",
       "      <td>0.003676</td>\n",
       "      <td>0.003676</td>\n",
       "      <td>0.158055</td>\n",
       "      <td>0.000000</td>\n",
       "      <td>0.000000</td>\n",
       "    </tr>\n",
       "  </tbody>\n",
       "</table>\n",
       "<p>3 rows × 14657 columns</p>\n",
       "</div>"
      ],
      "text/plain": [
       "          10       100       101      102       103       104       105  \\\n",
       "B1  0.000573  0.000000  0.000000  0.00000  0.000000  0.000000  0.000000   \n",
       "B2  0.000469  0.000000  0.000000  0.00000  0.000000  0.000000  0.000000   \n",
       "B3  0.001303  0.002941  0.002941  0.00147  0.000735  0.005146  0.007351   \n",
       "\n",
       "         106       107       108  ...    zealot   zealous    zenith    zephyr  \\\n",
       "B1  0.000000  0.000000  0.000000  ...  0.000000  0.000000  0.000000  0.000000   \n",
       "B2  0.000000  0.000000  0.000000  ...  0.000795  0.001209  0.000795  0.000000   \n",
       "B3  0.005146  0.005146  0.006616  ...  0.000000  0.000559  0.000000  0.000735   \n",
       "\n",
       "    zephyrus     zetes    zethus      zeus    zodiac      zwin  \n",
       "B1  0.000000  0.000000  0.000000  0.000000  0.000000  0.000000  \n",
       "B2  0.000000  0.000000  0.000000  0.000000  0.000795  0.000795  \n",
       "B3  0.005146  0.003676  0.003676  0.158055  0.000000  0.000000  \n",
       "\n",
       "[3 rows x 14657 columns]"
      ]
     },
     "execution_count": 22,
     "metadata": {},
     "output_type": "execute_result"
    }
   ],
   "source": [
    "corpus = [data1,data2,data3]\n",
    "\n",
    "vectorizer = TfidfVectorizer(min_df=0.1,stop_words=stop_words)\n",
    "trsfm = vectorizer.fit_transform(corpus)\n",
    "pd.DataFrame(trsfm.toarray(),columns=vectorizer.get_feature_names(),index=['B1','B2','B3'])"
   ]
  },
  {
   "cell_type": "code",
   "execution_count": 23,
   "id": "91d77c48",
   "metadata": {},
   "outputs": [
    {
     "data": {
      "text/plain": [
       "array([[1.        , 0.61686472, 0.52198365]])"
      ]
     },
     "execution_count": 23,
     "metadata": {},
     "output_type": "execute_result"
    }
   ],
   "source": [
    "cosine_similarity(trsfm[0],trsfm)"
   ]
  },
  {
   "cell_type": "code",
   "execution_count": 24,
   "id": "ee1d72dc",
   "metadata": {},
   "outputs": [
    {
     "data": {
      "text/plain": [
       "array([[0.61686472, 1.        , 0.69378468]])"
      ]
     },
     "execution_count": 24,
     "metadata": {},
     "output_type": "execute_result"
    }
   ],
   "source": [
    "cosine_similarity(trsfm[1],trsfm)"
   ]
  },
  {
   "cell_type": "code",
   "execution_count": null,
   "id": "a9807bb2",
   "metadata": {},
   "outputs": [],
   "source": []
  }
 ],
 "metadata": {
  "kernelspec": {
   "display_name": "Python 3 (ipykernel)",
   "language": "python",
   "name": "python3"
  },
  "language_info": {
   "codemirror_mode": {
    "name": "ipython",
    "version": 3
   },
   "file_extension": ".py",
   "mimetype": "text/x-python",
   "name": "python",
   "nbconvert_exporter": "python",
   "pygments_lexer": "ipython3",
   "version": "3.9.6"
  }
 },
 "nbformat": 4,
 "nbformat_minor": 5
}
