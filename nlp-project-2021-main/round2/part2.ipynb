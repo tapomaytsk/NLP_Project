{
 "cells": [
  {
   "cell_type": "code",
   "execution_count": 1,
   "id": "be7ddace",
   "metadata": {},
   "outputs": [],
   "source": [
    "import nltk\n",
    "import urllib.request\n",
    "import urllib.parse\n",
    "import urllib.error\n",
    "import ssl\n",
    "import json\n",
    "import pandas as pd\n",
    "from nltk.probability import FreqDist\n",
    "import matplotlib.pyplot as plt\n",
    "import numpy as np"
   ]
  },
  {
   "cell_type": "code",
   "execution_count": 2,
   "id": "cb2dc9a1",
   "metadata": {},
   "outputs": [
    {
     "name": "stderr",
     "output_type": "stream",
     "text": [
      "[nltk_data] Downloading package maxent_ne_chunker to\n",
      "[nltk_data]     /Users/rishabhjain/nltk_data...\n",
      "[nltk_data]   Package maxent_ne_chunker is already up-to-date!\n",
      "[nltk_data] Downloading package words to\n",
      "[nltk_data]     /Users/rishabhjain/nltk_data...\n",
      "[nltk_data]   Package words is already up-to-date!\n"
     ]
    },
    {
     "data": {
      "text/plain": [
       "True"
      ]
     },
     "execution_count": 2,
     "metadata": {},
     "output_type": "execute_result"
    }
   ],
   "source": [
    "nltk.download('maxent_ne_chunker')\n",
    "nltk.download('words')"
   ]
  },
  {
   "cell_type": "code",
   "execution_count": 3,
   "id": "4c2bf962",
   "metadata": {},
   "outputs": [],
   "source": [
    "def plot(X, Y, xlabel, ylabel, title):\n",
    "    fig = plt.figure(figsize = (10,8))\n",
    "    plt.bar(X, Y, tick_label=X, width=0.8, color=['red', 'blue'])\n",
    "    plt.xlabel(xlabel)\n",
    "    plt.ylabel(ylabel)\n",
    "    plt.xticks(rotation=90)\n",
    "    plt.title(title)\n",
    "    plt.show()\n",
    "    plt.subplots_adjust(bottom=0.18)"
   ]
  },
  {
   "cell_type": "code",
   "execution_count": 4,
   "id": "dd23dfd5",
   "metadata": {},
   "outputs": [],
   "source": [
    "def plotRelationShip(fd):\n",
    "\n",
    "    data = {}\n",
    "\n",
    "    for i in fd.keys():\n",
    "        if i not in data.keys():\n",
    "            data[i] = fd[i]\n",
    "        else:\n",
    "            data[i] += fd[i]\n",
    "\n",
    "    X = []\n",
    "    Y = []\n",
    "\n",
    "    for i in data.keys():\n",
    "        X.append(i)\n",
    "\n",
    "    for i in X:\n",
    "        Y.append(data[i])\n",
    "\n",
    "    # Plotting a bar graph for recorded data\n",
    "    xlabel = 'Entities'\n",
    "    ylabel = 'Frequency'\n",
    "    title = 'Relationship between entities and frequency'\n",
    "    plot(X, Y, xlabel, ylabel, title)"
   ]
  },
  {
   "cell_type": "code",
   "execution_count": 5,
   "id": "5eac1e8c",
   "metadata": {},
   "outputs": [],
   "source": [
    "def metrics(truth, run):\n",
    "    t = set(truth)\n",
    "    r = set(run)\n",
    "    intersection = r & t\n",
    "    True_positive = float(len(intersection))\n",
    "    if float(len(run)) >= float(True_positive):\n",
    "        False_positive = len(run) - True_positive\n",
    "    else:\n",
    "        False_positive = True_positive - len(run)\n",
    "    True_negative = 0\n",
    "    if len(truth) >= len(run):\n",
    "        False_negative = len(truth) - len(run)\n",
    "    else:\n",
    "        False_negative = 0\n",
    "    accuracy = (float(True_positive) + float(True_negative)) / (float(True_positive) + float(True_negative) + float(False_positive) + float(False_negative))\n",
    "    precision = float(True_positive) / (float(True_positive) + float(False_positive))\n",
    "    recall = float(True_positive) / (float(True_positive) + float(False_negative))\n",
    "    F_measure = (2 * recall * precision) / (recall + precision)\n",
    "    print(\"Accuracy: \", accuracy)\n",
    "    print(\"Recall: \", recall)\n",
    "    print(\"Precision: \", precision)\n",
    "    print(\"F-measure: \", F_measure)\n",
    "    d = {'Predicted Negative': [True_negative, False_negative],\n",
    "         'Predicted Positive': [False_positive, True_positive]}\n",
    "    metricsdf = pd.DataFrame(d, index=['Negative Cases', 'Positive Cases'])\n",
    "    return metricsdf"
   ]
  },
  {
   "cell_type": "code",
   "execution_count": 6,
   "id": "6184b993",
   "metadata": {},
   "outputs": [
    {
     "name": "stdout",
     "output_type": "stream",
     "text": [
      "Downloading books\n",
      "Extracting  http://www.gutenberg.org/files/1342/1342-0.txt\n"
     ]
    }
   ],
   "source": [
    "# Extracting the first text\n",
    "print('Downloading books')\n",
    "site1 = 'http://www.gutenberg.org/files/1342/1342-0.txt'\n",
    "print('Extracting ', site1)\n",
    "uh1 = urllib.request.urlopen(site1)\n",
    "data1 = uh1.read().decode('utf8')"
   ]
  },
  {
   "cell_type": "code",
   "execution_count": 7,
   "id": "7116de74",
   "metadata": {},
   "outputs": [
    {
     "name": "stdout",
     "output_type": "stream",
     "text": [
      "Extracting  http://www.gutenberg.org/files/829/829-0.txt\n",
      "Downloading of books complete\n"
     ]
    }
   ],
   "source": [
    "# Extracting the second text\n",
    "site2 = 'http://www.gutenberg.org/files/829/829-0.txt'\n",
    "print('Extracting ', site2)\n",
    "uh2 = urllib.request.urlopen(site2)\n",
    "data2 = uh2.read().decode('utf8')\n",
    "print('Downloading of books complete')"
   ]
  },
  {
   "cell_type": "code",
   "execution_count": 8,
   "id": "c6475e80",
   "metadata": {},
   "outputs": [
    {
     "name": "stdout",
     "output_type": "stream",
     "text": [
      "Tokenizing the texts of the books\n",
      "Tokenizing done\n"
     ]
    }
   ],
   "source": [
    "# tokenizing\n",
    "print('Tokenizing the texts of the books')\n",
    "token1 = nltk.word_tokenize(data1)\n",
    "token2 = nltk.word_tokenize(data2)\n",
    "print('Tokenizing done')"
   ]
  },
  {
   "cell_type": "code",
   "execution_count": 9,
   "id": "f9b0e4c0",
   "metadata": {},
   "outputs": [
    {
     "name": "stdout",
     "output_type": "stream",
     "text": [
      "POS tagging\n",
      "POS tagging done\n"
     ]
    }
   ],
   "source": [
    "# pos tagging\n",
    "print('POS tagging')\n",
    "tagged1 = nltk.pos_tag(token1)\n",
    "tagged2 = nltk.pos_tag(token2)\n",
    "print('POS tagging done')"
   ]
  },
  {
   "cell_type": "code",
   "execution_count": 10,
   "id": "d97f4d71",
   "metadata": {},
   "outputs": [
    {
     "name": "stdout",
     "output_type": "stream",
     "text": [
      "Named entity recognition\n",
      "Named entity recognition done\n"
     ]
    }
   ],
   "source": [
    "# Name Entity Recognition\n",
    "print('Named entity recognition')\n",
    "namedEnt1 = nltk.ne_chunk(tagged1)\n",
    "namedEnt2 = nltk.ne_chunk(tagged2)\n",
    "print('Named entity recognition done')"
   ]
  },
  {
   "cell_type": "code",
   "execution_count": 11,
   "id": "974718f5",
   "metadata": {},
   "outputs": [
    {
     "name": "stdout",
     "output_type": "stream",
     "text": [
      "Plotting entities vs. frequency chart for book-1\n"
     ]
    },
    {
     "data": {
      "image/png": "[encoded data removed]",
      "text/plain": [
       "<Figure size 720x576 with 1 Axes>"
      ]
     },
     "metadata": {
      "needs_background": "light"
     },
     "output_type": "display_data"
    },
    {
     "data": {
      "text/plain": [
       "<Figure size 432x288 with 0 Axes>"
      ]
     },
     "metadata": {},
     "output_type": "display_data"
    }
   ],
   "source": [
    "# plotting entities vs. frequency charts\n",
    "print('Plotting entities vs. frequency chart for book-1')\n",
    "lst = []\n",
    "seen = set()\n",
    "for chunk in namedEnt1:\n",
    "    if hasattr(chunk, 'label'):\n",
    "        tmp = ' '.join(c[0] for c in chunk)\n",
    "        if tmp not in seen:\n",
    "            seen.add(tmp)\n",
    "            lst.append(chunk.label())\n",
    "\n",
    "plotRelationShip(FreqDist(lst))"
   ]
  },
  {
   "cell_type": "code",
   "execution_count": 12,
   "id": "c2a71d24",
   "metadata": {},
   "outputs": [
    {
     "name": "stdout",
     "output_type": "stream",
     "text": [
      "Plotting entities vs. frequency chart for book-2\n"
     ]
    },
    {
     "data": {
      "image/png": "[encoded data removed]",
      "text/plain": [
       "<Figure size 720x576 with 1 Axes>"
      ]
     },
     "metadata": {
      "needs_background": "light"
     },
     "output_type": "display_data"
    },
    {
     "data": {
      "text/plain": [
       "<Figure size 432x288 with 0 Axes>"
      ]
     },
     "metadata": {},
     "output_type": "display_data"
    }
   ],
   "source": [
    "print('Plotting entities vs. frequency chart for book-2')\n",
    "lst = []\n",
    "seen = set()\n",
    "for chunk in namedEnt2:\n",
    "    if hasattr(chunk, 'label'):\n",
    "        # print(chunk.label(), ' '.join(c[0] for c in chunk))\n",
    "        tmp = ' '.join(c[0] for c in chunk)\n",
    "        if tmp not in seen:\n",
    "            seen.add(tmp)\n",
    "            lst.append(chunk.label())\n",
    "\n",
    "plotRelationShip(FreqDist(lst))"
   ]
  },
  {
   "cell_type": "code",
   "execution_count": 15,
   "id": "c391fa22",
   "metadata": {},
   "outputs": [
    {
     "name": "stdout",
     "output_type": "stream",
     "text": [
      "Running NER on random paragraphs from books to evaluate the algorithm\n",
      "\n",
      "Paragraph-1 :\n",
      "Maunally labelled PERSON entities : \n",
      "{'Mr. Denny', 'Kitty', 'Bingley', 'Mr. Darcy', 'Mr. Wickham', 'Elizabeth', 'Miss Bennet', 'Lydia'}\n",
      "\n",
      "Algorithm labelled PERSON entities : \n",
      "{'Mr. Denny', 'Kitty', 'Darcy', 'Bingley', 'Mr. Wickham', 'Mr. Darcy', 'Miss Bennet', 'Elizabeth'}\n",
      "\n",
      "Evaluation :\n",
      "Accuracy:  0.5384615384615384\n",
      "Recall:  1.0\n",
      "Precision:  0.5384615384615384\n",
      "F-measure:  0.7000000000000001\n",
      "                Predicted Negative  Predicted Positive\n",
      "Negative Cases                   0                 6.0\n",
      "Positive Cases                   0                 7.0\n"
     ]
    }
   ],
   "source": [
    "print('Running NER on random paragraphs from books to evaluate the algorithm')\n",
    "print('')\n",
    "print('Paragraph-1 :')\n",
    "data1 = \"But the attention of every lady was soon caught by a young man, whom they had never seen before, of most gentlemanlike appearance, walking with another officer on the other side of the way. The officer was the very Mr. Denny concerning whose return from London Lydia came to inquire, and he bowed as they passed. All were struck with the stranger's air, all wondered who he could be; and Kitty and Lydia, determined if possible to find out, led the way across the street, under pretense of wanting something in an opposite shop, and fortunately had just gained the pavement when the two gentlemen, turning back, had reached the same spot. Mr. Denny addressed them directly, and entreated permission to introduce his friend, Mr. Wickham, who had returned with him the day before from town, and he was happy to say had accepted a commission in their corps. This was exactly as it should be; for the young man wanted only regimentals to make him completely charming. His appearance was greatly in his favour; he had all the best part of beauty, a fine countenance, a good figure, and very pleasing address. The introduction was followed up on his side by a happy readiness of conversation--a readiness at the same time perfectly correct and unassuming; and the whole party were still standing and talking together very agreeably, when the sound of horses drew their notice, and Darcy and Bingley were seen riding down the street. On distinguishing the ladies of the group, the two gentlemen came directly towards them, and began the usual civilities. Bingley was the principal spokesman, and Miss Bennet the principal object. He was then, he said, on his way to Longbourn on purpose to inquire after her. Mr. Darcy corroborated it with a bow, and was beginning to determine not to fix his eyes on Elizabeth, when they were suddenly arrested by the sight of the stranger, and Elizabeth happening to see the countenance of both as they looked at each other, was all astonishment at the effect of the meeting. Both changed colour, one looked white, the other red. Mr. Wickham, after a few moments, touched his hat--a salutation which Mr. Darcy just deigned to return. What could be the meaning of it? It was impossible to imagine; it was impossible not to long to know.\"\n",
    "token = nltk.word_tokenize(data1)\n",
    "tagged = nltk.pos_tag(token)\n",
    "chunked = nltk.ne_chunk(tagged)\n",
    "\n",
    "run = []\n",
    "truth = ['Mr. Denny', 'Kitty', 'Lydia', 'Mr. Wickham', 'Bingley', 'Elizabeth', 'Mr. Darcy', 'Miss Bennet']\n",
    "for chunk in chunked:\n",
    "    if hasattr(chunk, 'label'):\n",
    "        if chunk.label() == 'PERSON':\n",
    "            # print(chunk.label(), ' '.join(c[0] for c in chunk))\n",
    "            ne = ' '.join(c[0] for c in chunk)\n",
    "            run.append(ne)\n",
    "            \n",
    "            \n",
    "print('Maunally labelled PERSON entities : ')\n",
    "print(set(truth))\n",
    "print('')\n",
    "print('Algorithm labelled PERSON entities : ')\n",
    "print(set(run))\n",
    "print('')\n",
    "print('Evaluation :')\n",
    "print(metrics(truth, run))"
   ]
  },
  {
   "cell_type": "code",
   "execution_count": 17,
   "id": "cae80840",
   "metadata": {},
   "outputs": [
    {
     "name": "stdout",
     "output_type": "stream",
     "text": [
      "Paragraph-2 :\n",
      "Maunally labelled PERSON entities : \n",
      "{'Slamecksan', 'Blefuscu', 'Lustrog', 'Tramecksan', 'Lilliput'}\n",
      "\n",
      "Alogorithm labelled PERSON entities : \n",
      "{'Blefuscu', 'Lustrog', 'Reldresal'}\n",
      "\n",
      "Evaluation :\n",
      "Accuracy:  0.4\n",
      "Recall:  0.5\n",
      "Precision:  0.6666666666666666\n",
      "F-measure:  0.5714285714285715\n",
      "                Predicted Negative  Predicted Positive\n",
      "Negative Cases                   0                 1.0\n",
      "Positive Cases                   2                 2.0\n"
     ]
    }
   ],
   "source": [
    "print('Paragraph-2 :')\n",
    "data2 = \"One morning, about a fortnight after I had obtained my liberty, Reldresal, principal secretary (as they style him) for private affairs, came to my house attended only by one servant. He ordered his coach to wait at a distance, and desired I would give him an hour’s audience; which I readily consented to, on account of his quality and personal merits, as well as of the many good offices he had done me during my solicitations at court. I offered to lie down that he might the more conveniently reach my ear, but he chose rather to let me hold him in my hand during our conversation. He began with compliments on my liberty; said “he might pretend to some merit in it;” but, however, added, “that if it had not been for the present situation of things at court, perhaps I might not have obtained it so soon. For,” said he, “as flourishing a condition as we may appear to be in to foreigners, we labour under two mighty evils: a violent faction at home, and the danger of an invasion, by a most potent enemy, from abroad. As to the first, you are to understand, that for about seventy moons past there have been two struggling parties in this empire, under the names of Tramecksan and Slamecksan, from the high and low heels of their shoes, by which they distinguish themselves. It is alleged, indeed, that the high heels are most agreeable to our ancient constitution; but, however this be, his majesty has determined to make use only of low heels in the administration of the government, and all offices in the gift of the crown, as you cannot but observe; and particularly that his majesty’s imperial heels are lower at least by a drurr than any of his court (drurr is a measure about the fourteenth part of an inch). The animosities between these two parties run so high, that they will neither eat, nor drink, nor talk with each other. We compute the Tramecksan, or high heels, to exceed us in number; but the power is wholly on our side. We apprehend his imperial highness, the heir to the crown, to have some tendency towards the high heels; at least we can plainly discover that one of his heels is higher than the other, which gives him a hobble in his gait. Now, in the midst of these intestine disquiets, we are threatened with an invasion from the island of Blefuscu, which is the other great empire of the universe, almost as large and powerful as this of his majesty. For as to what we have heard you affirm, that there are other kingdoms and states in the world inhabited by human creatures as large as yourself, our philosophers are in much doubt, and would rather conjecture that you dropped from the moon, or one of the stars; because it is certain, that a hundred mortals of your bulk would in a short time destroy all the fruits and cattle of his majesty’s dominions: besides, our histories of six thousand moons make no mention of any other regions than the two great empires of Lilliput and Blefuscu. Which two mighty powers have, as I was going to tell you, been engaged in a most obstinate war for six-and-thirty moons past. It began upon the following occasion. It is allowed on all hands, that the primitive way of breaking eggs, before we eat them, was upon the larger end; but his present majesty’s grandfather, while he was a boy, going to eat an egg, and breaking it according to the ancient practice, happened to cut one of his fingers. Whereupon the emperor his father published an edict, commanding all his subjects, upon great penalties, to break the smaller end of their eggs. The people so highly resented this law, that our histories tell us, there have been six rebellions raised on that account; wherein one emperor lost his life, and another his crown. These civil commotions were constantly fomented by the monarchs of Blefuscu; and when they were quelled, the exiles always fled for refuge to that empire. It is computed that eleven thousand persons have at several times suffered death, rather than submit to break their eggs at the smaller end. Many hundred large volumes have been published upon this controversy: but the books of the Big-endians have been long forbidden, and the whole party rendered incapable by law of holding employments. During the course of these troubles, the emperors of Blefuscu did frequently expostulate by their ambassadors, accusing us of making a schism in religion, by offending against a fundamental doctrine of our great prophet Lustrog, in the fifty-fourth chapter of the Blundecral (which is their Alcoran). This, however, is thought to be a mere strain upon the text; for the words are these: ‘that all true believers break their eggs at the convenient end.’ And which is the convenient end, seems, in my humble opinion to be left to every man’s conscience, or at least in the power of the chief magistrate to determine. Now, the Big-endian exiles have found so much credit in the emperor of Blefuscu’s court, and so much private assistance and encouragement from their party here at home, that a bloody war has been carried on between the two empires for six-and-thirty moons, with various success; during which time we have lost forty capital ships, and a much greater number of smaller vessels, together with thirty thousand of our best seamen and soldiers; and the damage received by the enemy is reckoned to be somewhat greater than ours. However, they have now equipped a numerous fleet, and are just preparing to make a descent upon us; and his imperial majesty, placing great confidence in your valour and strength, has commanded me to lay this account of his affairs before you.\"\n",
    "token = nltk.word_tokenize(data2)\n",
    "tagged = nltk.pos_tag(token)\n",
    "chunked = nltk.ne_chunk(tagged)\n",
    "\n",
    "run = []\n",
    "truth = ['Tramecksan', 'Slamecksan', 'Lustrog', 'Blefuscu', 'Lilliput']\n",
    "for chunk in chunked:\n",
    "    if hasattr(chunk, 'label'):\n",
    "        if chunk.label() == 'PERSON':\n",
    "            # print(chunk.label(), ' '.join(c[0] for c in chunk))\n",
    "            ne = ' '.join(c[0] for c in chunk)\n",
    "            run.append(ne)\n",
    "\n",
    "print('Maunally labelled PERSON entities : ')\n",
    "print(set(truth))\n",
    "print('')\n",
    "print('Alogorithm labelled PERSON entities : ')\n",
    "print(set(run))\n",
    "print('')\n",
    "print('Evaluation :')\n",
    "print(metrics(truth, run))"
   ]
  },
  {
   "cell_type": "code",
   "execution_count": null,
   "id": "2067b1a5",
   "metadata": {},
   "outputs": [],
   "source": []
  }
 ],
 "metadata": {
  "kernelspec": {
   "display_name": "Python 3 (ipykernel)",
   "language": "python",
   "name": "python3"
  },
  "language_info": {
   "codemirror_mode": {
    "name": "ipython",
    "version": 3
   },
   "file_extension": ".py",
   "mimetype": "text/x-python",
   "name": "python",
   "nbconvert_exporter": "python",
   "pygments_lexer": "ipython3",
   "version": "3.9.6"
  }
 },
 "nbformat": 4,
 "nbformat_minor": 5
}
